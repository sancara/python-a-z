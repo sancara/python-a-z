{
 "cells": [
  {
   "cell_type": "markdown",
   "id": "40cf603d-342c-4212-be12-63741f964c25",
   "metadata": {},
   "source": [
    "# Core Programming Principles"
   ]
  },
  {
   "cell_type": "code",
   "execution_count": 3,
   "id": "f9e5a92e-f966-4dbf-9736-88e723cae79f",
   "metadata": {},
   "outputs": [],
   "source": [
    "import numpy as np\n",
    "from numpy.random import randn"
   ]
  },
  {
   "cell_type": "code",
   "execution_count": 4,
   "id": "adcc64b4-ddc4-4109-879a-bbc5eadb3c40",
   "metadata": {},
   "outputs": [
    {
     "name": "stdout",
     "output_type": "stream",
     "text": [
      "0.72\n"
     ]
    }
   ],
   "source": [
    "N = 100\n",
    "counter = 0\n",
    "for i in randn(N):\n",
    "    if i < 1 and i > -1:\n",
    "        counter += 1\n",
    "answer = counter / N\n",
    "print(answer)"
   ]
  },
  {
   "cell_type": "markdown",
   "id": "504e366b-8593-4ef2-a22f-ce102be0d1fd",
   "metadata": {},
   "source": [
    "# Fundamentals of Python"
   ]
  },
  {
   "cell_type": "code",
   "execution_count": 5,
   "id": "c426e8ab-8a7a-4034-9457-d477967f1f98",
   "metadata": {},
   "outputs": [],
   "source": [
    "# Data\n",
    "revenue = [14574.49, 7606.46, 8611.41, 9175.41, 8058.65, 8105.44, 11496.28, 9766.09, 10305.32, 14379.96, 10713.97, 15433.50]\n",
    "expenses = [12051.82, 5695.07, 12319.20, 12089.72, 8658.57, 840.20, 3285.73, 5821.12, 6976.93, 16618.61, 10054.37, 3803.96]"
   ]
  },
  {
   "cell_type": "code",
   "execution_count": 21,
   "id": "aa571d04-c6ce-4b14-8960-c72f7ee161bb",
   "metadata": {},
   "outputs": [
    {
     "name": "stdout",
     "output_type": "stream",
     "text": [
      "[2522.67, 1911.39, -3707.79, -2914.31, -599.92, 7265.24, 8210.55, 3944.97, 3328.39, -2238.65, 659.6, 11629.54]\n"
     ]
    }
   ],
   "source": [
    "profit_per_month = []\n",
    "for i in range(len(revenue)):\n",
    "    profit = round(revenue[i] - expenses[i], 2)\n",
    "    profit_per_month.append(profit)\n",
    "\n",
    "profitable = [round(revenue[i] - expenses[i], 2) for i in range(len(revenue))]\n",
    "print(profitable)"
   ]
  },
  {
   "cell_type": "code",
   "execution_count": 23,
   "id": "7e81b12d-e29b-475d-9a05-8c4bdf35a902",
   "metadata": {},
   "outputs": [
    {
     "name": "stdout",
     "output_type": "stream",
     "text": [
      "[756.8, 573.42, -1112.34, -874.29, -179.98, 2179.57, 2463.16, 1183.49, 998.52, -671.6, 197.88, 3488.86]\n"
     ]
    }
   ],
   "source": [
    "#calculating the tax\n",
    "tax_value = [round(profitable[i] * 0.3, 2) for i in range(len(profitable))]\n",
    "print(tax_value)"
   ]
  },
  {
   "cell_type": "code",
   "execution_count": 30,
   "id": "dcb106f3-1318-4274-804c-1605f90d636f",
   "metadata": {},
   "outputs": [
    {
     "data": {
      "text/plain": [
       "[1765.87,\n",
       " 1337.97,\n",
       " -2595.45,\n",
       " -2040.02,\n",
       " -419.94,\n",
       " 5085.67,\n",
       " 5747.39,\n",
       " 2761.48,\n",
       " 2329.87,\n",
       " -1567.05,\n",
       " 461.72,\n",
       " 8140.68]"
      ]
     },
     "execution_count": 30,
     "metadata": {},
     "output_type": "execute_result"
    }
   ],
   "source": [
    "#profit remaining\n",
    "remain_profit = [round(profitable[i] - tax_value[i], 2) for i in range(len(profitable))]\n",
    "remain_profit"
   ]
  },
  {
   "cell_type": "code",
   "execution_count": 34,
   "id": "4894bd85-5454-4976-a9c9-9d7a7c349d6c",
   "metadata": {},
   "outputs": [
    {
     "data": {
      "text/plain": [
       "[12.0,\n",
       " 18.0,\n",
       " -30.0,\n",
       " -22.0,\n",
       " -5.0,\n",
       " 63.0,\n",
       " 50.0,\n",
       " 28.000000000000004,\n",
       " 23.0,\n",
       " -11.0,\n",
       " 4.0,\n",
       " 53.0]"
      ]
     },
     "execution_count": 34,
     "metadata": {},
     "output_type": "execute_result"
    }
   ],
   "source": [
    "margin = [round(remain_profit[i] / revenue[i], 2) * 100 for i in range(len(profitable))]\n",
    "margin"
   ]
  },
  {
   "cell_type": "code",
   "execution_count": 40,
   "id": "5c3cbe9d-36b7-490c-9872-124b7e97d0a2",
   "metadata": {},
   "outputs": [
    {
     "data": {
      "text/plain": [
       "1750.68"
      ]
     },
     "execution_count": 40,
     "metadata": {},
     "output_type": "execute_result"
    }
   ],
   "source": [
    "mean_profit = round(np.mean(remain_profit), 2)\n",
    "mean_profit"
   ]
  },
  {
   "cell_type": "code",
   "execution_count": 43,
   "id": "ae7588fd-cd2c-47c1-a16a-2888cdf7f079",
   "metadata": {},
   "outputs": [
    {
     "name": "stdout",
     "output_type": "stream",
     "text": [
      "[True, False, False, False, False, True, True, True, True, False, False, True]\n"
     ]
    }
   ],
   "source": [
    "good_months_mask = [remain_profit[i] > mean_profit for i in range(len(remain_profit))]\n",
    "print(good_months_mask)"
   ]
  },
  {
   "cell_type": "code",
   "execution_count": 44,
   "id": "b4480298-32fa-4779-a9fc-a9d691e59b68",
   "metadata": {},
   "outputs": [
    {
     "name": "stdout",
     "output_type": "stream",
     "text": [
      "[False, True, True, True, True, False, False, False, False, True, True, False]\n"
     ]
    }
   ],
   "source": [
    "bad_months_mask = [remain_profit[i] < mean_profit for i in range(len(remain_profit))]\n",
    "print(bad_months_mask)"
   ]
  },
  {
   "cell_type": "code",
   "execution_count": 48,
   "id": "31ab8f96-a4f7-4ee7-8be4-71d905719b45",
   "metadata": {},
   "outputs": [
    {
     "data": {
      "text/plain": [
       "8140.68"
      ]
     },
     "execution_count": 48,
     "metadata": {},
     "output_type": "execute_result"
    }
   ],
   "source": [
    "best_month = np.max(remain_profit)\n",
    "best_month"
   ]
  },
  {
   "cell_type": "code",
   "execution_count": 49,
   "id": "02b53b8b-65ff-4629-99a5-2583ef2c323c",
   "metadata": {},
   "outputs": [
    {
     "data": {
      "text/plain": [
       "-2595.45"
      ]
     },
     "execution_count": 49,
     "metadata": {},
     "output_type": "execute_result"
    }
   ],
   "source": [
    "worst_month = np.min(remain_profit)\n",
    "worst_month"
   ]
  },
  {
   "cell_type": "markdown",
   "id": "519b205b-c29b-4f77-86c7-cfbf6bf6eeae",
   "metadata": {},
   "source": [
    "# Matrices"
   ]
  },
  {
   "cell_type": "code",
   "execution_count": null,
   "id": "b3aa1183-4131-4902-bd07-6da66712630a",
   "metadata": {},
   "outputs": [],
   "source": []
  }
 ],
 "metadata": {
  "kernelspec": {
   "display_name": "Python 3 (ipykernel)",
   "language": "python",
   "name": "python3"
  },
  "language_info": {
   "codemirror_mode": {
    "name": "ipython",
    "version": 3
   },
   "file_extension": ".py",
   "mimetype": "text/x-python",
   "name": "python",
   "nbconvert_exporter": "python",
   "pygments_lexer": "ipython3",
   "version": "3.9.7"
  }
 },
 "nbformat": 4,
 "nbformat_minor": 5
}
